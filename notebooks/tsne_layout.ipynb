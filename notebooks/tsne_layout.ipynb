{
 "cells": [
  {
   "cell_type": "code",
   "execution_count": 1,
   "metadata": {},
   "outputs": [],
   "source": [
    "%matplotlib inline\n",
    "import pandas as pd\n",
    "import numpy as np\n",
    "import networkx as nx\n",
    "from sklearn.manifold import MDS, TSNE\n",
    "from sklearn.neighbors import DistanceMetric\n",
    "import matplotlib.pyplot as plt\n",
    "from matplotlib.backends.backend_pdf import PdfPages\n",
    "import io, os, re, time, itertools, requests\n",
    "from rdkit import Chem\n",
    "from rdkit import DataStructs\n",
    "from rdkit.Chem.Fingerprints import FingerprintMols\n",
    "from rdkit.Chem import AllChem\n",
    "from lprojection.util import get_N_HexCol\n",
    "from collections import Counter\n",
    "from lprojection.gnps import Gnps"
   ]
  },
  {
   "cell_type": "code",
   "execution_count": 2,
   "metadata": {},
   "outputs": [],
   "source": [
    "def dissimilarity_matrix(gdict, minput='Cosine', anno=None, url_to_features=None):\n",
    "    \"\"\" Calculates dissimilarity matrix based on defined input\n",
    "    Parameters\n",
    "    ----------\n",
    "    gdict: dict \n",
    "        Dictionary containing node attributes and edge list from GNPS. \n",
    "    minput: str\n",
    "        Workflow type ('MZmine' or 'V2').\n",
    "    anno: pandas dataframe\n",
    "        Annotation table with classyfire class assignment and InChI.\n",
    "    url_to_features: str\n",
    "        url do GNPS-MZmine job.\n",
    "    Returns\n",
    "        Dissimilarity matrix.\n",
    "    -------\n",
    "    \"\"\"\n",
    "    gnps = gdict['gnps']\n",
    "    net = gdict['net']\n",
    "    nlist = list(set(net['CLUSTERID1'].tolist()+net['CLUSTERID2'].tolist()))\n",
    "    nlist.sort()\n",
    "    nn = len(nlist)\n",
    "    ndict = {}\n",
    "    for n in range(nn):\n",
    "        ndict[nlist[n]] = n\n",
    "    if minput=='Cosine':\n",
    "        m = np.empty([nn,nn])\n",
    "        m[:nn, :nn] = 0\n",
    "        for i in net.index:\n",
    "            m[ndict[net.loc[i, 'CLUSTERID1']], ndict[net.loc[i, 'CLUSTERID2']]] = net.loc[i, 'Cosine']\n",
    "            m[ndict[net.loc[i, 'CLUSTERID2']], ndict[net.loc[i, 'CLUSTERID1']]] = net.loc[i, 'Cosine']\n",
    "        m = 1-m\n",
    "    elif minput=='Feature intensities':\n",
    "        features = pd.read_csv(io.StringIO(requests.get(url_to_features).text))\n",
    "        features.index = features['row ID']\n",
    "        dist = DistanceMetric.get_metric('canberra')\n",
    "        m = dist.pairwise(features.loc[nlist][features.columns[3:]])\n",
    "    elif minput=='Tanimoto':\n",
    "        ginchi = pd.merge(gnps[['cluster index', 'parent mass', 'LibraryID']],\n",
    "                          anno, left_on='cluster index', right_on='cluster index', how='left')\n",
    "        ginchi.index = ginchi['cluster index']\n",
    "        ginchi = ginchi.loc[list(ndict.keys())]\n",
    "        mols = []\n",
    "        for x in ginchi['INCHI']:\n",
    "            try:\n",
    "                mols.append(Chem.MolFromInchi(x))\n",
    "            except:\n",
    "                mols.append('')\n",
    "        m = np.empty([nn,nn])\n",
    "        m[:nn, :nn] = 0\n",
    "        for i in net.index:\n",
    "            p1 = np.where(ginchi.index==net.loc[i, 'CLUSTERID1'])[0][0]\n",
    "            p2 = np.where(ginchi.index==net.loc[i, 'CLUSTERID2'])[0][0]\n",
    "            try:\n",
    "                fp1 = AllChem.GetMorganFingerprint(mols[p1],2)\n",
    "                fp2 = AllChem.GetMorganFingerprint(mols[p2],2)\n",
    "                m[ndict[net.loc[i, 'CLUSTERID1']], ndict[net.loc[i, 'CLUSTERID2']]] = DataStructs.TanimotoSimilarity(fp1,fp2)\n",
    "                m[ndict[net.loc[i, 'CLUSTERID2']], ndict[net.loc[i, 'CLUSTERID1']]] = DataStructs.TanimotoSimilarity(fp1,fp2)\n",
    "            except:\n",
    "                m[ndict[net.loc[i, 'CLUSTERID1']], ndict[net.loc[i, 'CLUSTERID2']]] = net.loc[i, 'Cosine']\n",
    "                m[ndict[net.loc[i, 'CLUSTERID2']], ndict[net.loc[i, 'CLUSTERID1']]] = net.loc[i, 'Cosine']\n",
    "        m = 1-m\n",
    "    return m"
   ]
  },
  {
   "cell_type": "code",
   "execution_count": 3,
   "metadata": {},
   "outputs": [],
   "source": [
    "# Retrieve node attribute and edge list from GNPS for two jobs.\n",
    "# The first with minimal cosine threshold and matching peaks (https://gnps.ucsd.edu/ProteoSAFe/status.jsp?task=4fd90fa52ade4bdcb604945952964fa0)\n",
    "# to calculate the dimension reduction\n",
    "# The second, with standard data analysis parameters (https://gnps.ucsd.edu/ProteoSAFe/status.jsp?task=608e5eb3402f4dd599fcc88b1c8a40e9) \n",
    "# to display the connections between the edges in the graph\n",
    "taskid = '4fd90fa52ade4bdcb604945952964fa0,608e5eb3402f4dd599fcc88b1c8a40e9'\n",
    "workflow = 'V2'\n",
    "gdict = Gnps(taskid, workflow).getGnps()"
   ]
  },
  {
   "cell_type": "code",
   "execution_count": 4,
   "metadata": {},
   "outputs": [
    {
     "data": {
      "text/html": [
       "<div>\n",
       "<style scoped>\n",
       "    .dataframe tbody tr th:only-of-type {\n",
       "        vertical-align: middle;\n",
       "    }\n",
       "\n",
       "    .dataframe tbody tr th {\n",
       "        vertical-align: top;\n",
       "    }\n",
       "\n",
       "    .dataframe thead th {\n",
       "        text-align: right;\n",
       "    }\n",
       "</style>\n",
       "<table border=\"1\" class=\"dataframe\">\n",
       "  <thead>\n",
       "    <tr style=\"text-align: right;\">\n",
       "      <th></th>\n",
       "      <th>cluster index</th>\n",
       "      <th>parent.mass</th>\n",
       "      <th>LibraryID</th>\n",
       "      <th>INCHI</th>\n",
       "      <th>superclass_name</th>\n",
       "      <th>class_name</th>\n",
       "    </tr>\n",
       "  </thead>\n",
       "  <tbody>\n",
       "    <tr>\n",
       "      <th>0</th>\n",
       "      <td>1</td>\n",
       "      <td>319.086</td>\n",
       "      <td>2-((4,6-Dimethyl-2-pyrimidinyl)thio)-N-(3-nitr...</td>\n",
       "      <td>InChI=1S/C14H14N4O3S/c1-9-6-10(2)16-14(15-9)22...</td>\n",
       "      <td>Benzenoids</td>\n",
       "      <td>Benzene and substituted derivatives</td>\n",
       "    </tr>\n",
       "    <tr>\n",
       "      <th>1</th>\n",
       "      <td>2</td>\n",
       "      <td>362.053</td>\n",
       "      <td>N-(3-Nitrophenyl)-2-((4-methyl-5-(trifluoromet...</td>\n",
       "      <td>InChI=1S/C12H10F3N5O3S/c1-19-10(12(13,14)15)17...</td>\n",
       "      <td>Benzenoids</td>\n",
       "      <td>Benzene and substituted derivatives</td>\n",
       "    </tr>\n",
       "    <tr>\n",
       "      <th>2</th>\n",
       "      <td>3</td>\n",
       "      <td>311.027</td>\n",
       "      <td>N-(3-Nitrophenyl)-2-((5-methyl-1,3,4-thiadiazo...</td>\n",
       "      <td>InChI=1S/C11H10N4O3S2/c1-7-13-14-11(20-7)19-6-...</td>\n",
       "      <td>Benzenoids</td>\n",
       "      <td>Benzene and substituted derivatives</td>\n",
       "    </tr>\n",
       "    <tr>\n",
       "      <th>3</th>\n",
       "      <td>5</td>\n",
       "      <td>310.216</td>\n",
       "      <td>Methadone</td>\n",
       "      <td>InChI=1S/C21H27NO/c1-5-20(23)21(16-17(2)22(3)4...</td>\n",
       "      <td>Phenylpropanoids and polyketides</td>\n",
       "      <td>Flavonoids</td>\n",
       "    </tr>\n",
       "    <tr>\n",
       "      <th>4</th>\n",
       "      <td>6</td>\n",
       "      <td>212.128</td>\n",
       "      <td>Methoxamine</td>\n",
       "      <td>InChI=1S/C11H17NO3/c1-7(12)11(13)9-6-8(14-2)4-...</td>\n",
       "      <td>Benzenoids</td>\n",
       "      <td>Benzene and substituted derivatives</td>\n",
       "    </tr>\n",
       "  </tbody>\n",
       "</table>\n",
       "</div>"
      ],
      "text/plain": [
       "   cluster index  parent.mass  \\\n",
       "0              1      319.086   \n",
       "1              2      362.053   \n",
       "2              3      311.027   \n",
       "3              5      310.216   \n",
       "4              6      212.128   \n",
       "\n",
       "                                           LibraryID  \\\n",
       "0  2-((4,6-Dimethyl-2-pyrimidinyl)thio)-N-(3-nitr...   \n",
       "1  N-(3-Nitrophenyl)-2-((4-methyl-5-(trifluoromet...   \n",
       "2  N-(3-Nitrophenyl)-2-((5-methyl-1,3,4-thiadiazo...   \n",
       "3                                          Methadone   \n",
       "4                                        Methoxamine   \n",
       "\n",
       "                                               INCHI  \\\n",
       "0  InChI=1S/C14H14N4O3S/c1-9-6-10(2)16-14(15-9)22...   \n",
       "1  InChI=1S/C12H10F3N5O3S/c1-19-10(12(13,14)15)17...   \n",
       "2  InChI=1S/C11H10N4O3S2/c1-7-13-14-11(20-7)19-6-...   \n",
       "3  InChI=1S/C21H27NO/c1-5-20(23)21(16-17(2)22(3)4...   \n",
       "4  InChI=1S/C11H17NO3/c1-7(12)11(13)9-6-8(14-2)4-...   \n",
       "\n",
       "                    superclass_name                           class_name  \n",
       "0                        Benzenoids  Benzene and substituted derivatives  \n",
       "1                        Benzenoids  Benzene and substituted derivatives  \n",
       "2                        Benzenoids  Benzene and substituted derivatives  \n",
       "3  Phenylpropanoids and polyketides                           Flavonoids  \n",
       "4                        Benzenoids  Benzene and substituted derivatives  "
      ]
     },
     "execution_count": 4,
     "metadata": {},
     "output_type": "execute_result"
    }
   ],
   "source": [
    "# Set parameters\n",
    "scaling_factor = 30 # node size for .GML graph export\n",
    "projection = 'TSNE' # projection type\n",
    "\n",
    "# tsne parameters \n",
    "# https://scikit-learn.org/stable/modules/generated/sklearn.manifold.TSNE.html\n",
    "liter = 1000\n",
    "perp=6\n",
    "learn=200\n",
    "\n",
    "meta = '../data/associated_meta_inchi_match_full.tsv' # metadata file\n",
    "metac = 'superclass_name' # metadata field to use on file \n",
    "#cthr=0.7 # Cosine threshold to display edges on GML graph output\n",
    "minput='Cosine'\n",
    "\n",
    "anno = pd.read_table(meta) # load metadata matrix\n",
    "anno.head()"
   ]
  },
  {
   "cell_type": "code",
   "execution_count": 5,
   "metadata": {},
   "outputs": [
    {
     "data": {
      "text/plain": [
       "array([[1.    , 0.0256, 0.0617, 1.    , 1.    ],\n",
       "       [0.0256, 1.    , 0.0301, 1.    , 1.    ],\n",
       "       [0.0617, 0.0301, 1.    , 1.    , 1.    ],\n",
       "       [1.    , 1.    , 1.    , 1.    , 1.    ],\n",
       "       [1.    , 1.    , 1.    , 1.    , 1.    ]])"
      ]
     },
     "execution_count": 5,
     "metadata": {},
     "output_type": "execute_result"
    }
   ],
   "source": [
    "# Format cosine dissimilarity matrix\n",
    "m = dissimilarity_matrix(gdict, minput) \n",
    "#m.shape\n",
    "m[:5,:5]"
   ]
  },
  {
   "cell_type": "code",
   "execution_count": 6,
   "metadata": {},
   "outputs": [],
   "source": [
    "G1=nx.Graph() # one graph for standard layout (not very useful, cytoscape layouts are better)\n",
    "G2=nx.Graph() # one graph for 'feature relationship layout'\n",
    "if gdict['net1'] is not None: # if there is alternative GNPS display job\n",
    "    net1 = gdict['net1']\n",
    "    edge_list = net1[['CLUSTERID1', 'CLUSTERID2']].apply(lambda a: tuple(a.tolist()), axis=1).tolist()\n",
    "else:\n",
    "    edge_list = net[['CLUSTERID1', 'CLUSTERID2']].apply(lambda a: tuple(a.tolist()), axis=1).tolist()\n",
    "    \n",
    "G1.add_edges_from(edge_list)\n",
    "G2.add_edges_from(edge_list)"
   ]
  },
  {
   "cell_type": "code",
   "execution_count": 7,
   "metadata": {},
   "outputs": [],
   "source": [
    "# Perform dimension reduction with parameters as defined above\n",
    "if projection=='MDS':\n",
    "    embedding = MDS(n_components=2, dissimilarity='precomputed')\n",
    "    m_transformed = embedding.fit_transform(m)\n",
    "elif projection=='TSNE':\n",
    "    m_transformed = TSNE(n_components=2, n_iter=liter, perplexity=perp,\n",
    "                         learning_rate=learn, metric=\"precomputed\").fit_transform(m)"
   ]
  },
  {
   "cell_type": "code",
   "execution_count": 8,
   "metadata": {},
   "outputs": [],
   "source": [
    "# Few test gnps attributes\n",
    "gnps = gdict['gnps']\n",
    "net = gdict['net']\n",
    "nlist = list(set(net['CLUSTERID1'].tolist()+net['CLUSTERID2'].tolist()))\n",
    "nlist.sort()\n",
    "nn = len(nlist)\n",
    "ndict = {} \n",
    "# Graph node index, GNPS cluster index relationship \n",
    "for n in range(nn):\n",
    "    ndict[nlist[n]] = n\n",
    "  \n",
    "gnps = gnps[['cluster index', 'parent mass', 'LibraryID']]\n",
    "if meta!='':\n",
    "    anno.drop(['parent.mass', 'LibraryID', 'INCHI'], axis=1, inplace=True)\n",
    "    gnps = pd.merge(gnps, anno, left_on='cluster index', right_on='cluster index', how='left')\n",
    "    gnps.fillna('', inplace=True)\n",
    "    if metac in gnps.columns:\n",
    "        gnps.loc[gnps[metac]=='', metac] = 'unassigned'\n",
    "    # How to create n distinct colors for each class to color nodes\n",
    "    lcol = np.array(list(set(gnps[metac])))\n",
    "    if len(lcol)>1:\n",
    "        col = get_N_HexCol(len(lcol))\n",
    "        dcol = dict(zip(lcol, col))\n",
    "    gcol = {}"
   ]
  },
  {
   "cell_type": "code",
   "execution_count": 9,
   "metadata": {},
   "outputs": [],
   "source": [
    "# Assign one color for each node based on class\n",
    "gnps.index = gnps['cluster index']\n",
    "gnps.columns = gnps.columns.str.replace(' ', '')\n",
    "gnps.columns = gnps.columns.str.replace('_', '')\n",
    "for key, value in ndict.items():\n",
    "    dtmp = gnps.loc[key].to_dict()\n",
    "    if meta!='':\n",
    "        gcol[gnps.loc[key, 'clusterindex']] = dcol[gnps.loc[key, metac.replace('_', '')]]\n",
    "    for k, v in dtmp.items():\n",
    "        nx.set_node_attributes(G1, name=k, values={key: v})\n",
    "        nx.set_node_attributes(G2, name=k, values={key: v})"
   ]
  },
  {
   "cell_type": "code",
   "execution_count": 10,
   "metadata": {},
   "outputs": [],
   "source": [
    "taskid = taskid.split(',')\n",
    "staskid = taskid[0][:10]\n",
    "\n",
    "ptmp=nx.fruchterman_reingold_layout(G1) # networkx current choice for automated layout\n",
    "pos1 = {}\n",
    "for kp, vp in ptmp.items():\n",
    "    if meta!='':\n",
    "        pos1[kp] = {'x' : 100*scaling_factor*ptmp[kp][0], 'y' : 100*scaling_factor*ptmp[kp][1], 'fill': gcol[kp] }\n",
    "    else:\n",
    "        pos1[kp] = { 'x' : 100*scaling_factor*ptmp[kp][0], 'y' : 100*scaling_factor*ptmp[kp][1]}\n",
    "\n",
    "nx.set_node_attributes(G1,name='graphics', values=pos1) # add position and color\n",
    "nx.write_gml(G1, staskid+metac+'.gml', str) # write gml file with taskid in the name"
   ]
  },
  {
   "cell_type": "code",
   "execution_count": 11,
   "metadata": {},
   "outputs": [],
   "source": [
    "# use reduced dimensions to create layout\n",
    "pos = {}\n",
    "for key, value in ndict.items():\n",
    "    #G.node[key]['x'] = float(m_transformed[value,0])\n",
    "    #G.node[key]['y'] = float(m_transformed[value,1])\n",
    "    if meta!='':\n",
    "        pos[key] = {'x' : scaling_factor*float(m_transformed[value,0]), 'y' : scaling_factor*float(m_transformed[value,1]), 'fill': gcol[key] }\n",
    "    else:\n",
    "        pos[key] = {'x' : scaling_factor*float(m_transformed[value,0]), 'y' : scaling_factor*float(m_transformed[value,1]) }\n",
    "#nx.write_graphml(G, \"cosine_mds.graphml\") \n",
    "nx.set_node_attributes(G2, name='graphics',values=pos)\n",
    "nx.write_gml(G2, staskid+projection+minput+metac+'.gml', str)"
   ]
  },
  {
   "cell_type": "code",
   "execution_count": 12,
   "metadata": {},
   "outputs": [
    {
     "data": {
      "text/plain": [
       "<matplotlib.legend.Legend at 0x7f11d94b7cf8>"
      ]
     },
     "execution_count": 12,
     "metadata": {},
     "output_type": "execute_result"
    },
    {
     "data": {
      "image/png": "[encoded data removed]",
      "text/plain": [
       "<Figure size 432x288 with 1 Axes>"
      ]
     },
     "metadata": {
      "needs_background": "light"
     },
     "output_type": "display_data"
    }
   ],
   "source": [
    "# 2D layout colored by chemical super class\n",
    "gnps = gnps.loc[list(ndict.keys())]\n",
    "fig, ax = plt.subplots()\n",
    "for kk, vv  in dcol.items():\n",
    "    x = m_transformed[gnps[metac.replace('_', '')]==kk, :][:,0]\n",
    "    y = m_transformed[gnps[metac.replace('_', '')]==kk, :][:,1]\n",
    "    ax.scatter(x, y, c=vv,  label=kk)\n",
    "\n",
    "ax.legend(fontsize=6)"
   ]
  },
  {
   "cell_type": "code",
   "execution_count": 13,
   "metadata": {},
   "outputs": [
    {
     "data": {
      "image/png": "[encoded data removed]",
      "text/plain": [
       "<Figure size 432x288 with 1 Axes>"
      ]
     },
     "metadata": {
      "needs_background": "light"
     },
     "output_type": "display_data"
    }
   ],
   "source": [
    "fig, ax = plt.subplots()\n",
    "for kk, vv  in dcol.items():\n",
    "    x = m_transformed[gnps[metac.replace('_', '')]==kk, :][:,0]\n",
    "    y = m_transformed[gnps[metac.replace('_', '')]==kk, :][:,1]\n",
    "    ax.scatter(x, y, c=vv,  label=kk)\n"
   ]
  },
  {
   "cell_type": "code",
   "execution_count": 16,
   "metadata": {},
   "outputs": [],
   "source": [
    "# add your conda path, if necessary, to run the scrip\n",
    "os.environ['PATH'] += ':'+'/home/rsilva/miniconda3/envs/lproj/bin'"
   ]
  },
  {
   "cell_type": "code",
   "execution_count": 17,
   "metadata": {},
   "outputs": [
    {
     "name": "stdout",
     "output_type": "stream",
     "text": [
      "Usage: layout_script [OPTIONS] COMMAND [ARGS]...\r\n",
      "\r\n",
      "Options:\r\n",
      "  --help  Show this message and exit.\r\n",
      "\r\n",
      "Commands:\r\n",
      "  layout\r\n",
      "  tsne-optim\r\n"
     ]
    }
   ],
   "source": [
    "!layout_script  --help"
   ]
  },
  {
   "cell_type": "code",
   "execution_count": 19,
   "metadata": {},
   "outputs": [
    {
     "name": "stdout",
     "output_type": "stream",
     "text": [
      "Traceback (most recent call last):\r\n",
      "  File \"/home/rsilva/miniconda3/envs/lproj/bin/layout_script\", line 320, in <module>\r\n",
      "    layout_script()\r\n",
      "  File \"/home/rsilva/miniconda3/envs/lproj/lib/python3.5/site-packages/click/core.py\", line 764, in __call__\r\n",
      "    return self.main(*args, **kwargs)\r\n",
      "  File \"/home/rsilva/miniconda3/envs/lproj/lib/python3.5/site-packages/click/core.py\", line 717, in main\r\n",
      "    rv = self.invoke(ctx)\r\n",
      "  File \"/home/rsilva/miniconda3/envs/lproj/lib/python3.5/site-packages/click/core.py\", line 1137, in invoke\r\n",
      "    return _process_result(sub_ctx.command.invoke(sub_ctx))\r\n",
      "  File \"/home/rsilva/miniconda3/envs/lproj/lib/python3.5/site-packages/click/core.py\", line 956, in invoke\r\n",
      "    return ctx.invoke(self.callback, **ctx.params)\r\n",
      "  File \"/home/rsilva/miniconda3/envs/lproj/lib/python3.5/site-packages/click/core.py\", line 555, in invoke\r\n",
      "    return callback(*args, **kwargs)\r\n",
      "  File \"/home/rsilva/miniconda3/envs/lproj/bin/layout_script\", line 86, in layout\r\n",
      "    m = dissimilarity_matrix(gdict)\r\n",
      "NameError: name 'dissimilarity_matrix' is not defined\r\n"
     ]
    }
   ],
   "source": [
    "# repeat the process above on command line\n",
    "!layout_script layout \\\n",
    "    --taskid '4fd90fa52ade4bdcb604945952964fa0,608e5eb3402f4dd599fcc88b1c8a40e9' \\\n",
    "    --projection TSNE \\\n",
    "    --workflow V2 \\\n",
    "    --scaling 30 \\\n",
    "    --linput Cosine \\\n",
    "    --cthr 0.7 \\\n",
    "    --meta ../data/associated_meta_inchi_match_full.tsv \\\n",
    "    --metac superclass_name"
   ]
  },
  {
   "cell_type": "code",
   "execution_count": 32,
   "metadata": {},
   "outputs": [
    {
     "name": "stdout",
     "output_type": "stream",
     "text": [
      "Traceback (most recent call last):\r\n",
      "  File \"/home/rsilva/miniconda3/envs/lproj/bin/layout_script\", line 363, in <module>\r\n",
      "    layout_script()\r\n",
      "  File \"/home/rsilva/miniconda3/envs/lproj/lib/python3.5/site-packages/click/core.py\", line 764, in __call__\r\n",
      "    return self.main(*args, **kwargs)\r\n",
      "  File \"/home/rsilva/miniconda3/envs/lproj/lib/python3.5/site-packages/click/core.py\", line 717, in main\r\n",
      "    rv = self.invoke(ctx)\r\n",
      "  File \"/home/rsilva/miniconda3/envs/lproj/lib/python3.5/site-packages/click/core.py\", line 1137, in invoke\r\n",
      "    return _process_result(sub_ctx.command.invoke(sub_ctx))\r\n",
      "  File \"/home/rsilva/miniconda3/envs/lproj/lib/python3.5/site-packages/click/core.py\", line 956, in invoke\r\n",
      "    return ctx.invoke(self.callback, **ctx.params)\r\n",
      "  File \"/home/rsilva/miniconda3/envs/lproj/lib/python3.5/site-packages/click/core.py\", line 555, in invoke\r\n",
      "    return callback(*args, **kwargs)\r\n",
      "  File \"/home/rsilva/miniconda3/envs/lproj/bin/layout_script\", line 232, in layout\r\n",
      "    for key, value in ndict2.items():\r\n",
      "UnboundLocalError: local variable 'ndict2' referenced before assignment\r\n"
     ]
    }
   ],
   "source": [
    "# repeat the process with Tanimoto instead of cosine\n",
    "!layout_script layout \\\n",
    "    --taskid '4fd90fa52ade4bdcb604945952964fa0,608e5eb3402f4dd599fcc88b1c8a40e9' \\\n",
    "    --projection TSNE \\\n",
    "    --workflow V2 \\\n",
    "    --scaling 30 \\\n",
    "    --linput Tanimoto \\\n",
    "    --cthr 0.7 \\\n",
    "    --meta ../data/associated_meta_inchi_match_full.tsv \\\n",
    "    --metac superclass_name"
   ]
  },
  {
   "cell_type": "code",
   "execution_count": null,
   "metadata": {},
   "outputs": [],
   "source": []
  }
 ],
 "metadata": {
  "kernelspec": {
   "display_name": "lproj",
   "language": "python",
   "name": "lproj"
  },
  "language_info": {
   "codemirror_mode": {
    "name": "ipython",
    "version": 3
   },
   "file_extension": ".py",
   "mimetype": "text/x-python",
   "name": "python",
   "nbconvert_exporter": "python",
   "pygments_lexer": "ipython3",
   "version": "3.5.6"
  }
 },
 "nbformat": 4,
 "nbformat_minor": 2
}
